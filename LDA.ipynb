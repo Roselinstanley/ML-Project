{
 "cells": [
  {
   "cell_type": "code",
   "execution_count": 1,
   "id": "30fd4309-c0bf-45e8-8ad1-24eee0d1632e",
   "metadata": {},
   "outputs": [],
   "source": [
    "import pandas as pd\n",
    "import numpy as np\n",
    "from sklearn.model_selection import train_test_split\n",
    "from sklearn.preprocessing import StandardScaler\n",
    "from sklearn.linear_model import LogisticRegression\n",
    "from sklearn.tree import DecisionTreeClassifier\n",
    "from sklearn.ensemble import RandomForestClassifier\n",
    "from sklearn.svm import SVC\n",
    "from sklearn.decomposition import PCA\n",
    "from sklearn.metrics import confusion_matrix\n",
    "from sklearn.metrics import accuracy_score\n",
    "from sklearn.metrics import classification_report\n",
    "from sklearn.preprocessing import LabelEncoder\n",
    "import matplotlib.pyplot as plt"
   ]
  },
  {
   "cell_type": "code",
   "execution_count": 2,
   "id": "66a309b0-a0c3-4273-b8cc-599ff972192c",
   "metadata": {},
   "outputs": [],
   "source": [
    "#LDA -LDA is a supervised dimensionality reduction method, meaning it uses the target labels (y)\n",
    "def pcared(x_train,y_train,x_test,n):\n",
    "    feature_names = [f'Feature{i+1}' for i in range(x_train.shape[1])]\n",
    "    from sklearn.decomposition import KernelPCA\n",
    "    from sklearn.discriminant_analysis import LinearDiscriminantAnalysis as LDA\n",
    "    lda = LDA(n_components = n)\n",
    "    ldafit=lda.fit_transform(x_train,y_train)\n",
    "    ldafea=lda.transform(x_test)\n",
    "    principalDf = pd.DataFrame(data = ldafit, columns = ['principal component 1'])\n",
    "    print(principalDf)\n",
    "    #pca = PCA(n_components = n)\n",
    "    #pcafit=pca.fit_transform(x_train)\n",
    "    #pcafea=pca.transform(x_test)\n",
    "    #principalDf = pd.DataFrame(data = pcafit, columns = ['principal component 1', 'principal component 2','principal component 3'])\n",
    "    #print(principalDf)\n",
    "    explained_variance = lda.explained_variance_ratio_\n",
    "    print(explained_variance)\n",
    "    return ldafit,ldafea"
   ]
  },
  {
   "cell_type": "code",
   "execution_count": 3,
   "id": "e0536661-f745-4d04-a3fd-6c192f515923",
   "metadata": {},
   "outputs": [],
   "source": [
    "def standardscaler(indepX,depY):\n",
    "    #Train and Test set split\n",
    "    x_train,x_test,y_train,y_test=train_test_split(indepX,depY,test_size=0.30,random_state=0)\n",
    "    sc=StandardScaler()\n",
    "    x_train=sc.fit_transform(x_train)\n",
    "    x_test=sc.transform(x_test)\n",
    "    return x_train,x_test,y_train,y_test"
   ]
  },
  {
   "cell_type": "code",
   "execution_count": 4,
   "id": "e40df2c2-991b-4817-9fd1-3af81a64eae8",
   "metadata": {},
   "outputs": [],
   "source": [
    "def cmreport(classifier,x_test):\n",
    "    y_pred=classifier.predict(x_test)\n",
    "    cm=confusion_matrix(y_test,y_pred)\n",
    "    accuracy=accuracy_score(y_test,y_pred)\n",
    "    clr=classification_report(y_test,y_pred)\n",
    "    return classifier,cm,accuracy,clr,x_test,y_test"
   ]
  },
  {
   "cell_type": "code",
   "execution_count": 5,
   "id": "2ef483eb-57a4-4818-ba54-c0dc0b7ee8d1",
   "metadata": {},
   "outputs": [],
   "source": [
    "def Random(x_train,y_train,x_test):\n",
    "    from sklearn.ensemble import RandomForestClassifier\n",
    "    RFC=RandomForestClassifier(n_estimators=10,criterion='entropy',random_state=0)\n",
    "    RFC.fit(x_train,y_train)\n",
    "    classifier,cm,accuracy,clr,x_test,y_test=cmreport(RFC,x_test)\n",
    "    return classifier,cm,accuracy,clr,x_test,y_test"
   ]
  },
  {
   "cell_type": "code",
   "execution_count": 6,
   "id": "d95ac2ed-2dfd-4686-8bcf-16ca523ac09b",
   "metadata": {},
   "outputs": [],
   "source": [
    "def Decision(x_train,y_train,x_test):\n",
    "    from sklearn.tree import DecisionTreeClassifier\n",
    "    DT=DecisionTreeClassifier(criterion = 'entropy',random_state = 0)\n",
    "    DT.fit(x_train,y_train)\n",
    "    classifier,cm,accuracy,clr,x_test,y_test=cmreport(DT,x_test)\n",
    "    return classifier,cm,accuracy,clr,x_test,y_test"
   ]
  },
  {
   "cell_type": "code",
   "execution_count": 7,
   "id": "62e7901c-b6a0-46cc-bab6-7492a08c29fb",
   "metadata": {},
   "outputs": [],
   "source": [
    "def knn(x_train,y_train,x_test):\n",
    "    from sklearn.neighbors import KNeighborsClassifier\n",
    "    kn=KNeighborsClassifier(n_neighbors = 5, metric = 'minkowski', p = 2)\n",
    "    kn.fit(x_train,y_train)\n",
    "    classifier,cm,accuracy,clr,x_test,y_test=cmreport(kn,x_test)\n",
    "    return classifier,cm,accuracy,clr,x_test,y_test"
   ]
  },
  {
   "cell_type": "code",
   "execution_count": 8,
   "id": "312234e6-0f8c-42c2-8b95-1c759d9c0a4d",
   "metadata": {},
   "outputs": [],
   "source": [
    "def XGB(x_train,y_train,x_test):\n",
    "    from xgboost import XGBClassifier\n",
    "    bst=XGBClassifier(learning_rate=0.3,max_depth=5,n_estimators=100)\n",
    "    bst.fit(x_train,y_train)\n",
    "    classifier,cm,accuracy,clr,x_test,y_test=cmreport(bst,x_test)\n",
    "    return classifier,cm,accuracy,clr,x_test,y_test"
   ]
  },
  {
   "cell_type": "code",
   "execution_count": 9,
   "id": "2be1158a-4f28-49e4-b665-466f837921c9",
   "metadata": {},
   "outputs": [],
   "source": [
    "def QDA(x_train,y_train,x_test):\n",
    "    from sklearn.discriminant_analysis import QuadraticDiscriminantAnalysis\n",
    "    qda = QuadraticDiscriminantAnalysis()\n",
    "    qda.fit(x_train,y_train)\n",
    "    classifier,cm,accuracy,clr,x_test,y_test=cmreport(qda,x_test)\n",
    "    return classifier,cm,accuracy,clr,x_test,y_test"
   ]
  },
  {
   "cell_type": "code",
   "execution_count": 10,
   "id": "9dbe2eac-dfd1-4baa-924e-50ec4c585168",
   "metadata": {},
   "outputs": [],
   "source": [
    "def pcaconfusion(accran,accdeci,accknn,accxgb,accqda):\n",
    "    df=pd.DataFrame(index=['PCA'],columns=['Random','Decision','KNN','XGBoost','QuadraticDiscriminantAnalysis(QDA)'])\n",
    "    for number,idex in enumerate(df.index):\n",
    "        df.loc[idex, 'Random'] = accran[number]\n",
    "        df.loc[idex, 'Decision'] = accdeci[number]\n",
    "        df.loc[idex, 'KNN'] = accknn[number]\n",
    "        df.loc[idex, 'XGBoost'] = accxgb[number]\n",
    "        df.loc[idex, 'QuadraticDiscriminantAnalysis(QDA)'] = accqda[number]\n",
    "        return df"
   ]
  },
  {
   "cell_type": "code",
   "execution_count": 11,
   "id": "48f132b1-13ba-4a1c-b757-68330a02db07",
   "metadata": {},
   "outputs": [
    {
     "data": {
      "text/plain": [
       "aluminium      0\n",
       "ammonia        0\n",
       "arsenic        0\n",
       "barium         0\n",
       "cadmium        0\n",
       "chloramine     0\n",
       "chromium       0\n",
       "copper         0\n",
       "flouride       0\n",
       "bacteria       0\n",
       "viruses        0\n",
       "lead           0\n",
       "nitrates       0\n",
       "nitrites       0\n",
       "mercury        0\n",
       "perchlorate    0\n",
       "radium         0\n",
       "selenium       0\n",
       "silver         0\n",
       "uranium        0\n",
       "is_safe        0\n",
       "dtype: int64"
      ]
     },
     "execution_count": 11,
     "metadata": {},
     "output_type": "execute_result"
    }
   ],
   "source": [
    "dataset=pd.read_csv(\"QualityPrediction.csv\",index_col=None)\n",
    "dataset.isnull().sum()"
   ]
  },
  {
   "cell_type": "code",
   "execution_count": 12,
   "id": "93e61ee3-6889-4cb1-bc1c-e81208545a95",
   "metadata": {},
   "outputs": [],
   "source": [
    "dataset=pd.get_dummies(dataset,drop_first=True)"
   ]
  },
  {
   "cell_type": "code",
   "execution_count": 13,
   "id": "bc76ed01-b66e-4a4e-900f-1e47577cdd01",
   "metadata": {},
   "outputs": [],
   "source": [
    "indepX=dataset.drop('is_safe_Unsafe',axis=1)\n",
    "depY=dataset['is_safe_Unsafe']\n",
    "x_train,x_test,y_train,y_test=standardscaler(indepX,depY)"
   ]
  },
  {
   "cell_type": "code",
   "execution_count": 14,
   "id": "ea925ba9-a7fc-4997-b2bb-81a6520f84b8",
   "metadata": {},
   "outputs": [
    {
     "name": "stdout",
     "output_type": "stream",
     "text": [
      "      principal component 1\n",
      "0                  0.841709\n",
      "1                  3.442131\n",
      "2                 -1.183711\n",
      "3                 -0.091853\n",
      "4                  0.878241\n",
      "...                     ...\n",
      "5592               0.045247\n",
      "5593              -0.312387\n",
      "5594               0.315767\n",
      "5595               1.102328\n",
      "5596               1.386186\n",
      "\n",
      "[5597 rows x 1 columns]\n",
      "[1.]\n"
     ]
    }
   ],
   "source": [
    "x_train,x_test=pcared(x_train,y_train,x_test,1)  "
   ]
  },
  {
   "cell_type": "code",
   "execution_count": 15,
   "id": "385f462c-ede4-4644-b6eb-914636dd382c",
   "metadata": {},
   "outputs": [],
   "source": [
    "accran=[]\n",
    "accdeci=[]\n",
    "accknn=[]\n",
    "accxgb=[]\n",
    "accqda=[]"
   ]
  },
  {
   "cell_type": "code",
   "execution_count": 16,
   "id": "351efa1d-c29a-4ac4-a8d6-ce781dd520ca",
   "metadata": {},
   "outputs": [],
   "source": [
    "classifier,cm,accuracy,clr,x_test,y_test=Random(x_train,y_train,x_test)\n",
    "accran.append(accuracy)\n",
    "classifier,cm,accuracy,clr,x_test,y_test=Decision(x_train,y_train,x_test)\n",
    "accdeci.append(accuracy)\n",
    "classifier,cm,accuracy,clr,x_test,y_test=knn(x_train,y_train,x_test)\n",
    "accknn.append(accuracy)\n",
    "classifier,cm,accuracy,clr,x_test,y_test=XGB(x_train,y_train,x_test)\n",
    "accxgb.append(accuracy)\n",
    "classifier,cm,accuracy,clr,x_test,y_test=QDA(x_train,y_train,x_test)\n",
    "accqda.append(accuracy)"
   ]
  },
  {
   "cell_type": "code",
   "execution_count": 17,
   "id": "eeadf88a-0c9c-4396-be5b-cee0ad4f9ed1",
   "metadata": {},
   "outputs": [
    {
     "name": "stdout",
     "output_type": "stream",
     "text": [
      "       Random  Decision       KNN   XGBoost QuadraticDiscriminantAnalysis(QDA)\n",
      "PCA  0.848687  0.847853  0.879116  0.884952                           0.892872\n"
     ]
    }
   ],
   "source": [
    "result=pcaconfusion(accran,accdeci,accknn,accxgb,accqda)\n",
    "print(result)"
   ]
  },
  {
   "cell_type": "code",
   "execution_count": null,
   "id": "5714585e-af2d-4952-a89d-ad068b538a89",
   "metadata": {},
   "outputs": [],
   "source": []
  }
 ],
 "metadata": {
  "kernelspec": {
   "display_name": "Python 3 (ipykernel)",
   "language": "python",
   "name": "python3"
  },
  "language_info": {
   "codemirror_mode": {
    "name": "ipython",
    "version": 3
   },
   "file_extension": ".py",
   "mimetype": "text/x-python",
   "name": "python",
   "nbconvert_exporter": "python",
   "pygments_lexer": "ipython3",
   "version": "3.12.3"
  }
 },
 "nbformat": 4,
 "nbformat_minor": 5
}
